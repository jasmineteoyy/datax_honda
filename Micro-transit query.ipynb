{
 "cells": [
  {
   "cell_type": "code",
   "execution_count": 1,
   "metadata": {},
   "outputs": [],
   "source": [
    "# Set API Parameters Here\n",
    "import requests \n",
    "import pandas \n",
    "import numpy\n",
    "\n",
    "#Without a valid token and the correct api_url, you will not be able to request any of the files below. '\n",
    "#The required data has been shared with the instructors.\n",
    "token = 'This is not public.'\n",
    "api_url = 'This is also not public.'\n",
    "\n",
    "headers={'Authorization': 'Bearer %s' % token}\n"
   ]
  },
  {
   "cell_type": "code",
   "execution_count": 2,
   "metadata": {},
   "outputs": [],
   "source": [
    "from geopy.geocoders import Nominatim\n",
    "from random import randint"
   ]
  },
  {
   "cell_type": "code",
   "execution_count": 3,
   "metadata": {},
   "outputs": [],
   "source": [
    "user_agent = 'user_me_{}'.format(randint(10000,99999))\n",
    "geolocator = Nominatim(user_agent=user_agent)"
   ]
  },
  {
   "cell_type": "code",
   "execution_count": 4,
   "metadata": {},
   "outputs": [],
   "source": [
    "#triprequests\n",
    "TRqQr = {\"query\": \"{triprequest(input:{next:{fetch:4000}}){id scheduled_ts pickup_ts pickup_address dropoff_ts dropoff_address requested_ts created_by special_assistance organization_id ride_type status estimated_miles fare discount route_id updated_at}}\"}\n",
    "Rq = requests.post(api_url, headers=headers, json=TRqQr)\n",
    "DtnrRp = Rq.json()\n",
    "TRq = pandas.DataFrame(DtnrRp[\"data\"][\"triprequest\"])\n",
    "\n"
   ]
  },
  {
   "cell_type": "code",
   "execution_count": 5,
   "metadata": {},
   "outputs": [
    {
     "data": {
      "text/html": [
       "<div>\n",
       "<style scoped>\n",
       "    .dataframe tbody tr th:only-of-type {\n",
       "        vertical-align: middle;\n",
       "    }\n",
       "\n",
       "    .dataframe tbody tr th {\n",
       "        vertical-align: top;\n",
       "    }\n",
       "\n",
       "    .dataframe thead th {\n",
       "        text-align: right;\n",
       "    }\n",
       "</style>\n",
       "<table border=\"1\" class=\"dataframe\">\n",
       "  <thead>\n",
       "    <tr style=\"text-align: right;\">\n",
       "      <th></th>\n",
       "      <th>id</th>\n",
       "      <th>scheduled_ts</th>\n",
       "      <th>pickup_ts</th>\n",
       "      <th>pickup_address</th>\n",
       "      <th>dropoff_ts</th>\n",
       "      <th>dropoff_address</th>\n",
       "      <th>requested_ts</th>\n",
       "      <th>created_by</th>\n",
       "      <th>special_assistance</th>\n",
       "      <th>organization_id</th>\n",
       "      <th>ride_type</th>\n",
       "      <th>status</th>\n",
       "      <th>estimated_miles</th>\n",
       "      <th>fare</th>\n",
       "      <th>discount</th>\n",
       "      <th>route_id</th>\n",
       "      <th>updated_at</th>\n",
       "    </tr>\n",
       "  </thead>\n",
       "  <tbody>\n",
       "    <tr>\n",
       "      <th>0</th>\n",
       "      <td>286014</td>\n",
       "      <td>2019-09-14T11:35:00Z</td>\n",
       "      <td>2019-09-14T11:36:46Z</td>\n",
       "      <td>50 N 3rd St, Columbus, OH 43215, USA</td>\n",
       "      <td>2019-09-14T11:59:36Z</td>\n",
       "      <td>1356 Cherry Way Drive, Gahanna, OH, USA</td>\n",
       "      <td>2019-09-03T19:59:43Z</td>\n",
       "      <td>589</td>\n",
       "      <td>false</td>\n",
       "      <td>22</td>\n",
       "      <td>Ready By</td>\n",
       "      <td>Completed</td>\n",
       "      <td>11.8</td>\n",
       "      <td>14.0</td>\n",
       "      <td>0.0</td>\n",
       "      <td>39152.0</td>\n",
       "      <td>2019-09-14T11:59:36Z</td>\n",
       "    </tr>\n",
       "  </tbody>\n",
       "</table>\n",
       "</div>"
      ],
      "text/plain": [
       "       id          scheduled_ts             pickup_ts  \\\n",
       "0  286014  2019-09-14T11:35:00Z  2019-09-14T11:36:46Z   \n",
       "\n",
       "                         pickup_address            dropoff_ts  \\\n",
       "0  50 N 3rd St, Columbus, OH 43215, USA  2019-09-14T11:59:36Z   \n",
       "\n",
       "                           dropoff_address          requested_ts  created_by  \\\n",
       "0  1356 Cherry Way Drive, Gahanna, OH, USA  2019-09-03T19:59:43Z         589   \n",
       "\n",
       "  special_assistance  organization_id ride_type     status  estimated_miles  \\\n",
       "0              false               22  Ready By  Completed             11.8   \n",
       "\n",
       "   fare  discount  route_id            updated_at  \n",
       "0  14.0       0.0   39152.0  2019-09-14T11:59:36Z  "
      ]
     },
     "execution_count": 5,
     "metadata": {},
     "output_type": "execute_result"
    }
   ],
   "source": [
    "TRq.iloc[0:1, :]"
   ]
  },
  {
   "cell_type": "code",
   "execution_count": null,
   "metadata": {},
   "outputs": [],
   "source": [
    "#TRq.to_csv(\"TRq.csv\")"
   ]
  },
  {
   "cell_type": "code",
   "execution_count": null,
   "metadata": {},
   "outputs": [],
   "source": [
    "#TRq = pandas.read_csv(\"TRq.csv\")"
   ]
  },
  {
   "cell_type": "code",
   "execution_count": null,
   "metadata": {},
   "outputs": [],
   "source": [
    "#TRq.iloc[0:5, :]"
   ]
  },
  {
   "cell_type": "code",
   "execution_count": 7,
   "metadata": {},
   "outputs": [],
   "source": [
    "LOUnRID =  TRq[\"route_id\"][TRq[\"route_id\"].notnull()][1:].unique()"
   ]
  },
  {
   "cell_type": "code",
   "execution_count": 8,
   "metadata": {},
   "outputs": [
    {
     "data": {
      "text/plain": [
       "1148"
      ]
     },
     "execution_count": 8,
     "metadata": {},
     "output_type": "execute_result"
    }
   ],
   "source": [
    "len(LOUnRID)"
   ]
  },
  {
   "cell_type": "code",
   "execution_count": 9,
   "metadata": {},
   "outputs": [
    {
     "data": {
      "text/plain": [
       "array([39154., 39159., 39158., ..., 68206., 68241., 68264.])"
      ]
     },
     "execution_count": 9,
     "metadata": {},
     "output_type": "execute_result"
    }
   ],
   "source": [
    "LOUnRID"
   ]
  },
  {
   "cell_type": "code",
   "execution_count": 19,
   "metadata": {},
   "outputs": [],
   "source": [
    "#route\n",
    "FRtQr = {\"query\": \"{route(input:{next:{fetch:1000}}){id name driver_id start_ts end_ts vehicle_id ambulatory_riders handicapped_riders total_riders status updated_at}}\"}\n",
    "FRtRq = requests.post(api_url, headers=headers, json=FRtQr)\n",
    "DtnrRp = FRtRq.json()"
   ]
  },
  {
   "cell_type": "code",
   "execution_count": 20,
   "metadata": {},
   "outputs": [],
   "source": [
    "Rt = pandas.DataFrame(DtnrRp[\"data\"][\"route\"])"
   ]
  },
  {
   "cell_type": "code",
   "execution_count": 23,
   "metadata": {},
   "outputs": [
    {
     "data": {
      "text/html": [
       "<div>\n",
       "<style scoped>\n",
       "    .dataframe tbody tr th:only-of-type {\n",
       "        vertical-align: middle;\n",
       "    }\n",
       "\n",
       "    .dataframe tbody tr th {\n",
       "        vertical-align: top;\n",
       "    }\n",
       "\n",
       "    .dataframe thead th {\n",
       "        text-align: right;\n",
       "    }\n",
       "</style>\n",
       "<table border=\"1\" class=\"dataframe\">\n",
       "  <thead>\n",
       "    <tr style=\"text-align: right;\">\n",
       "      <th></th>\n",
       "      <th>id</th>\n",
       "      <th>name</th>\n",
       "      <th>driver_id</th>\n",
       "      <th>start_ts</th>\n",
       "      <th>end_ts</th>\n",
       "      <th>vehicle_id</th>\n",
       "      <th>ambulatory_riders</th>\n",
       "      <th>handicapped_riders</th>\n",
       "      <th>total_riders</th>\n",
       "      <th>status</th>\n",
       "      <th>updated_at</th>\n",
       "    </tr>\n",
       "  </thead>\n",
       "  <tbody>\n",
       "    <tr>\n",
       "      <th>0</th>\n",
       "      <td>37593</td>\n",
       "      <td>R-Q22</td>\n",
       "      <td>1965</td>\n",
       "      <td>2019-08-22T10:38:56Z</td>\n",
       "      <td>2019-08-22T13:53:50Z</td>\n",
       "      <td>2.0</td>\n",
       "      <td>2</td>\n",
       "      <td>0</td>\n",
       "      <td>2</td>\n",
       "      <td>Completed</td>\n",
       "      <td>2019-09-16T15:18:23Z</td>\n",
       "    </tr>\n",
       "  </tbody>\n",
       "</table>\n",
       "</div>"
      ],
      "text/plain": [
       "      id   name  driver_id              start_ts                end_ts  \\\n",
       "0  37593  R-Q22       1965  2019-08-22T10:38:56Z  2019-08-22T13:53:50Z   \n",
       "\n",
       "   vehicle_id  ambulatory_riders  handicapped_riders  total_riders     status  \\\n",
       "0         2.0                  2                   0             2  Completed   \n",
       "\n",
       "             updated_at  \n",
       "0  2019-09-16T15:18:23Z  "
      ]
     },
     "execution_count": 23,
     "metadata": {},
     "output_type": "execute_result"
    }
   ],
   "source": [
    "Rt.iloc[0:1, :]"
   ]
  },
  {
   "cell_type": "code",
   "execution_count": null,
   "metadata": {},
   "outputs": [],
   "source": [
    "FRtQr = {\"query\": \"{route(input:{id: 39152 next:{fetch:10}}){id name driver_id start_ts end_ts vehicle_id ambulatory_riders handicapped_riders total_riders status updated_at}}\"}\n",
    "FRtRq = requests.post(api_url, headers=headers, json=FRtQr)\n",
    "DtnrRp = FRtRq.json()\n",
    "\n",
    "for RID in LOUnRID:\n",
    "    IRID = int(RID)\n",
    "    TprrRtQr = {\"query\": \"{route(input:{id: \" + str(IRID) +  \" next:{fetch:10}}){id name driver_id start_ts end_ts vehicle_id  ambulatory_riders handicapped_riders total_riders status updated_at}}\"}\n",
    "    TprrRtRq = requests.post(api_url, headers=headers, json=TprrRtQr)\n",
    "    TprrDtnrRp = TprrRtRq.json()\n",
    "    DtnrRp[\"data\"][\"route\"] = DtnrRp[\"data\"][\"route\"] + TprrDtnrRp[\"data\"][\"route\"]\n",
    "    \n",
    "    "
   ]
  },
  {
   "cell_type": "code",
   "execution_count": 13,
   "metadata": {},
   "outputs": [],
   "source": [
    "Rt = pandas.DataFrame(DtnrRp[\"data\"][\"route\"])\n"
   ]
  },
  {
   "cell_type": "code",
   "execution_count": 24,
   "metadata": {},
   "outputs": [
    {
     "data": {
      "text/plain": [
       "1000"
      ]
     },
     "execution_count": 24,
     "metadata": {},
     "output_type": "execute_result"
    }
   ],
   "source": [
    "len(Rt[\"id\"])"
   ]
  },
  {
   "cell_type": "code",
   "execution_count": null,
   "metadata": {},
   "outputs": [],
   "source": [
    "#Rt.to_csv(\"Rt.csv\")"
   ]
  },
  {
   "cell_type": "code",
   "execution_count": null,
   "metadata": {},
   "outputs": [],
   "source": [
    "#Rt = pandas.read_csv(\"Rt.csv\")"
   ]
  },
  {
   "cell_type": "code",
   "execution_count": null,
   "metadata": {},
   "outputs": [],
   "source": [
    "#Rt.iloc[0:1, :]"
   ]
  },
  {
   "cell_type": "code",
   "execution_count": 25,
   "metadata": {},
   "outputs": [],
   "source": [
    "#At most 1000 Random organization rows. \n",
    "QrOgnzt = {\"query\": \"{organization(input:{next:{fetch:1000}}){organization_id type pricing_mode}}\"}\n",
    "Rq = requests.post(api_url, headers=headers, json=QrOgnzt)\n",
    "DtnrRp = Rq.json()\n",
    "Ognzt= pandas.DataFrame(DtnrRp[\"data\"][\"organization\"])\n",
    "Ognzt.to_csv(\"Ognzt.csv\")"
   ]
  },
  {
   "cell_type": "code",
   "execution_count": 26,
   "metadata": {},
   "outputs": [],
   "source": [
    "#Ognzt = pandas.read_csv(\"Ognzt.csv\")"
   ]
  },
  {
   "cell_type": "code",
   "execution_count": 27,
   "metadata": {},
   "outputs": [],
   "source": [
    "FStDtQr = {\"query\": \"{safetydetail(input:{vehicle_id: 51 driver_id :3320  route_id: 39152  next:{fetch:10}}){vehicle_id driver_id route_id safety_score  safety_score_rank total_distance_driven harsh_turning_events harsh_braking_events harsh_acceleration_events updated_at}}\"}\n",
    "FStDtRq = requests.post(api_url, headers=headers, json=FStDtQr)\n",
    "DtnrRp = FStDtRq.json()\n",
    "\n"
   ]
  },
  {
   "cell_type": "code",
   "execution_count": null,
   "metadata": {},
   "outputs": [],
   "source": [
    "LOVhcIDDvIARID = list(zip(Rt[\"vehicle_id\"][Rt[\"vehicle_id\"].notnull()], Rt[\"driver_id\"][Rt[\"driver_id\"].notnull()], Rt[\"id\"][Rt[\"id\"].notnull()]))\n",
    "for VhcID,DvID,RID, in LOVhcIDDvIARID[1:]:\n",
    "    TprrStDtQr = {\"query\": \"{safetydetail(input:{vehicle_id: \" + str(VhcID) +  \" driver_id : \" + str(DvID) + \" route_id: \" + str(RID) + \" next:{fetch:10}}){vehicle_id driver_id route_id safety_score  safety_score_rank total_distance_driven harsh_turning_events harsh_braking_events harsh_acceleration_events updated_at}}\"}\n",
    "    TprrStDtRq = requests.post(api_url, headers=headers, json=TprrStDtQr)\n",
    "    TprrDtnrRp = TprrStDtRq.json()\n",
    "    DtnrRp[\"data\"][\"safetydetail\"] = DtnrRp[\"data\"][\"safetydetail\"] + TprrDtnrRp[\"data\"][\"safetydetail\"]\n",
    "    \n",
    "    \n"
   ]
  },
  {
   "cell_type": "code",
   "execution_count": null,
   "metadata": {},
   "outputs": [],
   "source": [
    "StDt = pandas.DataFrame(DtnrRp[\"data\"][\"safetydetail\"])"
   ]
  },
  {
   "cell_type": "code",
   "execution_count": null,
   "metadata": {},
   "outputs": [],
   "source": [
    "StDt.to_csv(\"StDt_FFTsTRq.csv\")"
   ]
  },
  {
   "cell_type": "code",
   "execution_count": null,
   "metadata": {},
   "outputs": [],
   "source": [
    "StDt = pandas.read_csv(\"StDt_FOTsTRq.csv\")"
   ]
  },
  {
   "cell_type": "code",
   "execution_count": null,
   "metadata": {},
   "outputs": [],
   "source": [
    "len(StDt[\"vehicle_id\"])"
   ]
  },
  {
   "cell_type": "code",
   "execution_count": null,
   "metadata": {},
   "outputs": [],
   "source": [
    "StDt.iloc[0:5, :]"
   ]
  },
  {
   "cell_type": "code",
   "execution_count": 29,
   "metadata": {},
   "outputs": [],
   "source": [
    "#At most 1000 random vehicle rows. \n",
    "VhcQr = {\"query\": \"{vehicle(input:{next:{fetch:1000}}){id vin name make model year capacity handicapped updated_at}}\"}\n",
    "VhcRq = requests.post(api_url, headers=headers, json=VhcQr)\n",
    "DtnrRp = VhcRq.json()"
   ]
  },
  {
   "cell_type": "code",
   "execution_count": 30,
   "metadata": {},
   "outputs": [],
   "source": [
    "Vhc = pandas.DataFrame(DtnrRp[\"data\"][\"vehicle\"])"
   ]
  },
  {
   "cell_type": "code",
   "execution_count": 31,
   "metadata": {},
   "outputs": [
    {
     "data": {
      "text/html": [
       "<div>\n",
       "<style scoped>\n",
       "    .dataframe tbody tr th:only-of-type {\n",
       "        vertical-align: middle;\n",
       "    }\n",
       "\n",
       "    .dataframe tbody tr th {\n",
       "        vertical-align: top;\n",
       "    }\n",
       "\n",
       "    .dataframe thead th {\n",
       "        text-align: right;\n",
       "    }\n",
       "</style>\n",
       "<table border=\"1\" class=\"dataframe\">\n",
       "  <thead>\n",
       "    <tr style=\"text-align: right;\">\n",
       "      <th></th>\n",
       "      <th>id</th>\n",
       "      <th>vin</th>\n",
       "      <th>name</th>\n",
       "      <th>make</th>\n",
       "      <th>model</th>\n",
       "      <th>year</th>\n",
       "      <th>capacity</th>\n",
       "      <th>handicapped</th>\n",
       "      <th>updated_at</th>\n",
       "    </tr>\n",
       "  </thead>\n",
       "  <tbody>\n",
       "    <tr>\n",
       "      <th>0</th>\n",
       "      <td>1</td>\n",
       "      <td>2F***************</td>\n",
       "      <td>01-H-0004</td>\n",
       "      <td>Ford</td>\n",
       "      <td>Flex</td>\n",
       "      <td>2018</td>\n",
       "      <td>6</td>\n",
       "      <td>0</td>\n",
       "      <td>2019-10-30T09:53:29Z</td>\n",
       "    </tr>\n",
       "  </tbody>\n",
       "</table>\n",
       "</div>"
      ],
      "text/plain": [
       "   id                vin       name  make model  year  capacity  handicapped  \\\n",
       "0   1  2F***************  01-H-0004  Ford  Flex  2018         6            0   \n",
       "\n",
       "             updated_at  \n",
       "0  2019-10-30T09:53:29Z  "
      ]
     },
     "execution_count": 31,
     "metadata": {},
     "output_type": "execute_result"
    }
   ],
   "source": [
    "Vhc.iloc[0:1, :]"
   ]
  },
  {
   "cell_type": "code",
   "execution_count": null,
   "metadata": {},
   "outputs": [],
   "source": [
    "len(Vhc[\"id\"])"
   ]
  },
  {
   "cell_type": "code",
   "execution_count": null,
   "metadata": {},
   "outputs": [],
   "source": [
    "#Vhc.to_csv(\"Vhc.csv\")"
   ]
  },
  {
   "cell_type": "code",
   "execution_count": null,
   "metadata": {},
   "outputs": [],
   "source": [
    "FVhcQr = {\"query\": \"{vehicle(input:{id: 51 next:{fetch:1}}){id vin name make model year capacity handicapped updated_at}}\"}\n",
    "FVhcRq = requests.post(api_url, headers=headers, json=FVhcQr)\n",
    "DtnrRp = FVhcRq.json()\n"
   ]
  },
  {
   "cell_type": "code",
   "execution_count": null,
   "metadata": {},
   "outputs": [],
   "source": [
    "LOUnVhcID = Rt[\"vehicle_id\"][Rt[\"vehicle_id\"].notnull()].unique()"
   ]
  },
  {
   "cell_type": "code",
   "execution_count": null,
   "metadata": {},
   "outputs": [],
   "source": [
    "len(LOUnVhcID)"
   ]
  },
  {
   "cell_type": "code",
   "execution_count": null,
   "metadata": {},
   "outputs": [],
   "source": [
    "LOUnVhcID = Rt[\"vehicle_id\"][Rt[\"vehicle_id\"].notnull()].unique()\n",
    "for VhcID in LOUnVhcID[1:]:\n",
    "    TprrVhcQr = {\"query\": \"{vehicle(input:{id: \" + str(VhcID) + \" next:{fetch:1}}){id vin name make model year capacity handicapped updated_at}}\"}\n",
    "    TprrVhcRq = requests.post(api_url, headers=headers, json=TprrVhcQr)\n",
    "    TprrDtnrRp = TprrVhcRq.json()\n",
    "    DtnrRp[\"data\"][\"vehicle\"] = DtnrRp[\"data\"][\"vehicle\"] + TprrDtnrRp[\"data\"][\"vehicle\"]\n",
    "    "
   ]
  },
  {
   "cell_type": "code",
   "execution_count": null,
   "metadata": {},
   "outputs": [],
   "source": [
    "Vhc = pandas.DataFrame(DtnrRp[\"data\"][\"vehicle\"])"
   ]
  },
  {
   "cell_type": "code",
   "execution_count": null,
   "metadata": {},
   "outputs": [],
   "source": [
    "Vhc.to_csv(\"VhcFFTsTRq.csv\")"
   ]
  },
  {
   "cell_type": "code",
   "execution_count": null,
   "metadata": {},
   "outputs": [],
   "source": [
    "Vhc = pandas.read_csv(\"Vhc_FOTsTRq.csv\")"
   ]
  },
  {
   "cell_type": "code",
   "execution_count": null,
   "metadata": {},
   "outputs": [],
   "source": [
    "len(Vhc)"
   ]
  },
  {
   "cell_type": "code",
   "execution_count": null,
   "metadata": {},
   "outputs": [],
   "source": [
    "LOUnRtID = Rt[\"id\"][Rt[\"id\"].notnull()].unique()"
   ]
  },
  {
   "cell_type": "code",
   "execution_count": 35,
   "metadata": {},
   "outputs": [],
   "source": [
    "FHEvQr = {\"query\": \"{harshevent(input:{next:{fetch:100}}){id route_id event_datetime event_type address distracted incident_url created_datetime updated_at}}\"}\n",
    "FHEvRq = requests.post(api_url, headers=headers, json=FHEvQr)\n",
    "DtnrRp = FHEvRq.json()"
   ]
  },
  {
   "cell_type": "code",
   "execution_count": 36,
   "metadata": {},
   "outputs": [],
   "source": [
    "HEv = pandas.DataFrame(DtnrRp[\"data\"][\"harshevent\"])"
   ]
  },
  {
   "cell_type": "code",
   "execution_count": 37,
   "metadata": {},
   "outputs": [
    {
     "data": {
      "text/html": [
       "<div>\n",
       "<style scoped>\n",
       "    .dataframe tbody tr th:only-of-type {\n",
       "        vertical-align: middle;\n",
       "    }\n",
       "\n",
       "    .dataframe tbody tr th {\n",
       "        vertical-align: top;\n",
       "    }\n",
       "\n",
       "    .dataframe thead th {\n",
       "        text-align: right;\n",
       "    }\n",
       "</style>\n",
       "<table border=\"1\" class=\"dataframe\">\n",
       "  <thead>\n",
       "    <tr style=\"text-align: right;\">\n",
       "      <th></th>\n",
       "      <th>id</th>\n",
       "      <th>route_id</th>\n",
       "      <th>event_datetime</th>\n",
       "      <th>event_type</th>\n",
       "      <th>address</th>\n",
       "      <th>distracted</th>\n",
       "      <th>incident_url</th>\n",
       "      <th>created_datetime</th>\n",
       "      <th>updated_at</th>\n",
       "    </tr>\n",
       "  </thead>\n",
       "  <tbody>\n",
       "    <tr>\n",
       "      <th>0</th>\n",
       "      <td>112</td>\n",
       "      <td>39668</td>\n",
       "      <td>2019-09-09T11:55:21Z</td>\n",
       "      <td>Harsh Braking</td>\n",
       "      <td>Olentangy Freeway; Moody Jackson Parkway (SR 3...</td>\n",
       "      <td>false</td>\n",
       "      <td>https://cloud.samsara.com/groups/18722/fleet/r...</td>\n",
       "      <td>2019-09-10T09:00:25Z</td>\n",
       "      <td>2019-09-10T09:00:25Z</td>\n",
       "    </tr>\n",
       "  </tbody>\n",
       "</table>\n",
       "</div>"
      ],
      "text/plain": [
       "    id  route_id        event_datetime     event_type  \\\n",
       "0  112     39668  2019-09-09T11:55:21Z  Harsh Braking   \n",
       "\n",
       "                                             address distracted  \\\n",
       "0  Olentangy Freeway; Moody Jackson Parkway (SR 3...      false   \n",
       "\n",
       "                                        incident_url      created_datetime  \\\n",
       "0  https://cloud.samsara.com/groups/18722/fleet/r...  2019-09-10T09:00:25Z   \n",
       "\n",
       "             updated_at  \n",
       "0  2019-09-10T09:00:25Z  "
      ]
     },
     "execution_count": 37,
     "metadata": {},
     "output_type": "execute_result"
    }
   ],
   "source": [
    "HEv.iloc[0:1, :]"
   ]
  },
  {
   "cell_type": "code",
   "execution_count": null,
   "metadata": {},
   "outputs": [],
   "source": [
    "len(HEv)"
   ]
  },
  {
   "cell_type": "code",
   "execution_count": null,
   "metadata": {},
   "outputs": [],
   "source": [
    "HEv.to_csv(\"HEv.csv\")"
   ]
  },
  {
   "cell_type": "code",
   "execution_count": null,
   "metadata": {},
   "outputs": [],
   "source": [
    "HEv = pandas.read_csv(\"HEv.csv\")"
   ]
  },
  {
   "cell_type": "code",
   "execution_count": null,
   "metadata": {},
   "outputs": [],
   "source": [
    "HEv.iloc[1:10, :]"
   ]
  },
  {
   "cell_type": "code",
   "execution_count": null,
   "metadata": {},
   "outputs": [],
   "source": [
    "#At most 1000 Random harshevent rows. \n",
    "HEvQr = {\"query\": \"{harshevent(input:{next:{fetch:1000}}){id route_id event_datetime event_type address distracted incident_url created_datetime updated_at}}\"}\n",
    "HEvRq = requests.post(api_url, headers=headers, json=HEvQr)\n",
    "DtnrRp = HEvRq.json()\n",
    "HEv = pandas.DataFrame(DtnrRp[\"data\"][\"harshevent\"])\n",
    "HEv.to_csv(\"HEv.csv\")"
   ]
  },
  {
   "cell_type": "code",
   "execution_count": null,
   "metadata": {},
   "outputs": [],
   "source": [
    "HEv = pandas.read_csv(\"HEv.csv\")"
   ]
  },
  {
   "cell_type": "code",
   "execution_count": null,
   "metadata": {},
   "outputs": [],
   "source": [
    "len(HEv[\"id\"])"
   ]
  },
  {
   "cell_type": "code",
   "execution_count": 41,
   "metadata": {},
   "outputs": [],
   "source": [
    "#vehicle location\n",
    "FVhcLctQr = {\"query\": \"{vehiclelocation(input:{next:{fetch:100}}){vehicle_id event_timestamp lat lng speed_mph}}\"}\n",
    "FVhcLctRq = requests.post(api_url, headers=headers, json=FVhcLctQr)\n",
    "DtnrRp = FVhcLctRq.json()"
   ]
  },
  {
   "cell_type": "code",
   "execution_count": null,
   "metadata": {},
   "outputs": [],
   "source": [
    "LOUnVhcID = Vhc[\"id\"].unique()\n",
    "for VhcID in LOUnVhcID[1:]:\n",
    "    TprrVhcLctQr = {\"query\": \"{vehiclelocation(input:{vehicle_id: \" + str(VhcID) + \" next:{fetch:100}}){vehicle_id event_timestamp lat lng speed_mph}}\"}\n",
    "    TprrVhcLctRq = requests.post(api_url, headers=headers, json=TprrVhcLctQr)\n",
    "    TprrDtnrRp = TprrVhcLctRq.json()\n",
    "    DtnrRp[\"data\"][\"vehiclelocation\"] = DtnrRp[\"data\"][\"vehiclelocation\"] + TprrDtnrRp[\"data\"][\"vehiclelocation\"]"
   ]
  },
  {
   "cell_type": "code",
   "execution_count": 43,
   "metadata": {},
   "outputs": [],
   "source": [
    "VhcLct = pandas.DataFrame(DtnrRp[\"data\"][\"vehiclelocation\"])"
   ]
  },
  {
   "cell_type": "code",
   "execution_count": 44,
   "metadata": {},
   "outputs": [
    {
     "data": {
      "text/html": [
       "<div>\n",
       "<style scoped>\n",
       "    .dataframe tbody tr th:only-of-type {\n",
       "        vertical-align: middle;\n",
       "    }\n",
       "\n",
       "    .dataframe tbody tr th {\n",
       "        vertical-align: top;\n",
       "    }\n",
       "\n",
       "    .dataframe thead th {\n",
       "        text-align: right;\n",
       "    }\n",
       "</style>\n",
       "<table border=\"1\" class=\"dataframe\">\n",
       "  <thead>\n",
       "    <tr style=\"text-align: right;\">\n",
       "      <th></th>\n",
       "      <th>vehicle_id</th>\n",
       "      <th>event_timestamp</th>\n",
       "      <th>lat</th>\n",
       "      <th>lng</th>\n",
       "      <th>speed_mph</th>\n",
       "    </tr>\n",
       "  </thead>\n",
       "  <tbody>\n",
       "    <tr>\n",
       "      <th>0</th>\n",
       "      <td>1</td>\n",
       "      <td>2018-11-01T00:32:58.897Z</td>\n",
       "      <td>40.062763</td>\n",
       "      <td>-83.000116</td>\n",
       "      <td>0.0</td>\n",
       "    </tr>\n",
       "  </tbody>\n",
       "</table>\n",
       "</div>"
      ],
      "text/plain": [
       "   vehicle_id           event_timestamp        lat        lng  speed_mph\n",
       "0           1  2018-11-01T00:32:58.897Z  40.062763 -83.000116        0.0"
      ]
     },
     "execution_count": 44,
     "metadata": {},
     "output_type": "execute_result"
    }
   ],
   "source": [
    "VhcLct.iloc[0:1, :]"
   ]
  },
  {
   "cell_type": "code",
   "execution_count": null,
   "metadata": {},
   "outputs": [],
   "source": [
    "VhcLct.to_csv(\"VhcLctFFTsTRq.csv\")"
   ]
  },
  {
   "cell_type": "code",
   "execution_count": null,
   "metadata": {},
   "outputs": [],
   "source": [
    "VhcLct = pandas.read_csv(\"VhcLct.csv\")"
   ]
  },
  {
   "cell_type": "code",
   "execution_count": null,
   "metadata": {},
   "outputs": [],
   "source": [
    "VhcLct"
   ]
  },
  {
   "cell_type": "code",
   "execution_count": 45,
   "metadata": {},
   "outputs": [],
   "source": [
    "#At most 1000 Random vehiclediagnostic rows. \n",
    "VhcDntQr = {\"query\": \"{vehiclediagnostic(input:{next:{fetch:1000}}){vehicle_id event_timestamp check_engine_light dtc_shortcode dtc_id dtc_id2 dtc_description}}\"}\n",
    "VhcDntRq = requests.post(api_url, headers=headers, json=VhcDntQr)\n",
    "DtnrRp = VhcDntRq.json()\n"
   ]
  },
  {
   "cell_type": "code",
   "execution_count": 46,
   "metadata": {},
   "outputs": [],
   "source": [
    "VhcDnt = pandas.DataFrame(DtnrRp[\"data\"][\"vehiclediagnostic\"])"
   ]
  },
  {
   "cell_type": "code",
   "execution_count": 47,
   "metadata": {},
   "outputs": [
    {
     "data": {
      "text/html": [
       "<div>\n",
       "<style scoped>\n",
       "    .dataframe tbody tr th:only-of-type {\n",
       "        vertical-align: middle;\n",
       "    }\n",
       "\n",
       "    .dataframe tbody tr th {\n",
       "        vertical-align: top;\n",
       "    }\n",
       "\n",
       "    .dataframe thead th {\n",
       "        text-align: right;\n",
       "    }\n",
       "</style>\n",
       "<table border=\"1\" class=\"dataframe\">\n",
       "  <thead>\n",
       "    <tr style=\"text-align: right;\">\n",
       "      <th></th>\n",
       "      <th>vehicle_id</th>\n",
       "      <th>event_timestamp</th>\n",
       "      <th>check_engine_light</th>\n",
       "      <th>dtc_shortcode</th>\n",
       "      <th>dtc_id</th>\n",
       "      <th>dtc_id2</th>\n",
       "      <th>dtc_description</th>\n",
       "    </tr>\n",
       "  </thead>\n",
       "  <tbody>\n",
       "    <tr>\n",
       "      <th>0</th>\n",
       "      <td>1</td>\n",
       "      <td>2018-12-06T00:54:13.573Z</td>\n",
       "      <td>False</td>\n",
       "      <td>None</td>\n",
       "      <td>None</td>\n",
       "      <td>None</td>\n",
       "      <td>None</td>\n",
       "    </tr>\n",
       "  </tbody>\n",
       "</table>\n",
       "</div>"
      ],
      "text/plain": [
       "   vehicle_id           event_timestamp  check_engine_light dtc_shortcode  \\\n",
       "0           1  2018-12-06T00:54:13.573Z               False          None   \n",
       "\n",
       "  dtc_id dtc_id2 dtc_description  \n",
       "0   None    None            None  "
      ]
     },
     "execution_count": 47,
     "metadata": {},
     "output_type": "execute_result"
    }
   ],
   "source": [
    "VhcDnt.iloc[0:1, :]"
   ]
  },
  {
   "cell_type": "code",
   "execution_count": null,
   "metadata": {},
   "outputs": [],
   "source": [
    "VhcDnt.to_csv(\"VhcDnt.csv\")"
   ]
  },
  {
   "cell_type": "code",
   "execution_count": null,
   "metadata": {},
   "outputs": [],
   "source": [
    "LOUnVhcID"
   ]
  },
  {
   "cell_type": "code",
   "execution_count": null,
   "metadata": {},
   "outputs": [],
   "source": [
    "TprrVhcDntQr = {\"query\": \"{vehiclediagnostic(input:{vehicle_id : \" + str(900) + \" next:{fetch:1000}}){vehicle_id event_timestamp check_engine_light dtc_shortcode dtc_id dtc_id2 dtc_description}}\"}\n",
    "TprrVhcDntRq = requests.post(api_url, headers=headers, json=TprrVhcDntQr)\n",
    "TprrDtnrRp = TprrVhcDntRq.json()\n",
    "TprrDtnrRp"
   ]
  },
  {
   "cell_type": "code",
   "execution_count": null,
   "metadata": {},
   "outputs": [],
   "source": []
  },
  {
   "cell_type": "code",
   "execution_count": null,
   "metadata": {},
   "outputs": [],
   "source": [
    "FVhcDntQr = {\"query\": \"{vehiclediagnostic(input:{vehicle_id: 51 next:{fetch:100}}){vehicle_id event_timestamp check_engine_light dtc_shortcode dtc_id dtc_id2 dtc_description}}\"}\n",
    "FVhcDntRq = requests.post(api_url, headers=headers, json=FVhcDntQr)\n",
    "DtnrRp = FVhcDntRq.json()\n",
    "for VhcID in LOUnVhcID[1:]:\n",
    "    TprrVhcDntQr = {\"query\": \"{vehiclediagnostic(input:{vehicle_id : \" + str(VhcID) + \" next:{fetch:100}}){vehicle_id event_timestamp check_engine_light dtc_shortcode dtc_id dtc_id2 dtc_description}}\"}\n",
    "    TprrVhcDntRq = requests.post(api_url, headers=headers, json=TprrVhcDntQr)\n",
    "    TprrDtnrRp = TprrVhcDntRq.json()\n",
    "    DtnrRp[\"data\"][\"vehiclediagnostic\"] = DtnrRp[\"data\"][\"vehiclediagnostic\"] + TprrDtnrRp[\"data\"][\"vehiclediagnostic\"]\n",
    "    "
   ]
  },
  {
   "cell_type": "code",
   "execution_count": null,
   "metadata": {},
   "outputs": [],
   "source": [
    "VhcDnt = pandas.DataFrame(DtnrRp[\"data\"][\"vehiclediagnostic\"])\n",
    "    "
   ]
  },
  {
   "cell_type": "code",
   "execution_count": null,
   "metadata": {},
   "outputs": [],
   "source": [
    "VhcDnt.to_csv(\"VhcDnt_FFTsTRq.csv\")"
   ]
  },
  {
   "cell_type": "code",
   "execution_count": null,
   "metadata": {},
   "outputs": [],
   "source": [
    "VhcDnt"
   ]
  },
  {
   "cell_type": "code",
   "execution_count": null,
   "metadata": {},
   "outputs": [],
   "source": []
  }
 ],
 "metadata": {
  "kernelspec": {
   "display_name": "Python 3",
   "language": "python",
   "name": "python3"
  },
  "language_info": {
   "codemirror_mode": {
    "name": "ipython",
    "version": 3
   },
   "file_extension": ".py",
   "mimetype": "text/x-python",
   "name": "python",
   "nbconvert_exporter": "python",
   "pygments_lexer": "ipython3",
   "version": "3.8.3"
  }
 },
 "nbformat": 4,
 "nbformat_minor": 4
}
